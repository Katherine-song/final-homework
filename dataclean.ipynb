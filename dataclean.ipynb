{
 "cells": [
  {
   "cell_type": "markdown",
   "id": "fc8f4c9e",
   "metadata": {},
   "source": [
    "导入相关包"
   ]
  },
  {
   "cell_type": "code",
   "execution_count": 1,
   "id": "cb21a814",
   "metadata": {},
   "outputs": [],
   "source": [
    "import numpy as np\n",
    "import pandas as pd\n",
    "import matplotlib.pyplot as plt\n",
    "from plotnine import *"
   ]
  },
  {
   "cell_type": "markdown",
   "id": "de45794f",
   "metadata": {},
   "source": [
    "读取数据"
   ]
  },
  {
   "cell_type": "code",
   "execution_count": 2,
   "id": "3ecd9732",
   "metadata": {},
   "outputs": [],
   "source": [
    "raw_data = pd.read_excel('D:/课件/编程基础/homework/final/airlin_runoff.xlsx')"
   ]
  },
  {
   "cell_type": "code",
   "execution_count": 3,
   "id": "6e25db3b",
   "metadata": {},
   "outputs": [
    {
     "data": {
      "text/html": [
       "<div>\n",
       "<style scoped>\n",
       "    .dataframe tbody tr th:only-of-type {\n",
       "        vertical-align: middle;\n",
       "    }\n",
       "\n",
       "    .dataframe tbody tr th {\n",
       "        vertical-align: top;\n",
       "    }\n",
       "\n",
       "    .dataframe thead th {\n",
       "        text-align: right;\n",
       "    }\n",
       "</style>\n",
       "<table border=\"1\" class=\"dataframe\">\n",
       "  <thead>\n",
       "    <tr style=\"text-align: right;\">\n",
       "      <th></th>\n",
       "      <th>MEMBER_NO</th>\n",
       "      <th>DAYS_FROM_LAST_TO_END</th>\n",
       "      <th>DAYS_FROM_BEGIN_TO_FIRST</th>\n",
       "      <th>FFP_TIER</th>\n",
       "      <th>GENDER</th>\n",
       "      <th>age</th>\n",
       "      <th>FLIGHT_COUNT</th>\n",
       "      <th>FLIGHT_COUNT_QTR_1</th>\n",
       "      <th>FLIGHT_COUNT_QTR_2</th>\n",
       "      <th>FLIGHT_COUNT_QTR_3</th>\n",
       "      <th>...</th>\n",
       "      <th>L1Y_ELi_Add_Points</th>\n",
       "      <th>Points_Sum</th>\n",
       "      <th>L1Y_Points_Sum</th>\n",
       "      <th>Ration_L1Y_Flight_Count</th>\n",
       "      <th>Ration_P1Y_Flight_Count</th>\n",
       "      <th>Ration_P1Y_BPS</th>\n",
       "      <th>Ration_L1Y_BPS</th>\n",
       "      <th>Point_Chg_NotFlight</th>\n",
       "      <th>runoff_flag</th>\n",
       "      <th>FFP_days</th>\n",
       "    </tr>\n",
       "  </thead>\n",
       "  <tbody>\n",
       "    <tr>\n",
       "      <th>0</th>\n",
       "      <td>‘00000001</td>\n",
       "      <td>198</td>\n",
       "      <td>525</td>\n",
       "      <td>4</td>\n",
       "      <td>男</td>\n",
       "      <td>40.0</td>\n",
       "      <td>3</td>\n",
       "      <td>0</td>\n",
       "      <td>0</td>\n",
       "      <td>0</td>\n",
       "      <td>...</td>\n",
       "      <td>0</td>\n",
       "      <td>7035</td>\n",
       "      <td>7035</td>\n",
       "      <td>1.000000</td>\n",
       "      <td>0.000000</td>\n",
       "      <td>0.000000</td>\n",
       "      <td>0.999858</td>\n",
       "      <td>0</td>\n",
       "      <td>1</td>\n",
       "      <td>2923</td>\n",
       "    </tr>\n",
       "    <tr>\n",
       "      <th>1</th>\n",
       "      <td>‘00000002</td>\n",
       "      <td>114</td>\n",
       "      <td>57</td>\n",
       "      <td>4</td>\n",
       "      <td>男</td>\n",
       "      <td>52.0</td>\n",
       "      <td>24</td>\n",
       "      <td>1</td>\n",
       "      <td>5</td>\n",
       "      <td>7</td>\n",
       "      <td>...</td>\n",
       "      <td>0</td>\n",
       "      <td>16210</td>\n",
       "      <td>6717</td>\n",
       "      <td>0.458333</td>\n",
       "      <td>0.541667</td>\n",
       "      <td>0.585590</td>\n",
       "      <td>0.414348</td>\n",
       "      <td>0</td>\n",
       "      <td>0</td>\n",
       "      <td>2923</td>\n",
       "    </tr>\n",
       "    <tr>\n",
       "      <th>2</th>\n",
       "      <td>‘00000003</td>\n",
       "      <td>84</td>\n",
       "      <td>6</td>\n",
       "      <td>4</td>\n",
       "      <td>女</td>\n",
       "      <td>52.0</td>\n",
       "      <td>9</td>\n",
       "      <td>2</td>\n",
       "      <td>2</td>\n",
       "      <td>0</td>\n",
       "      <td>...</td>\n",
       "      <td>63000</td>\n",
       "      <td>85008</td>\n",
       "      <td>63651</td>\n",
       "      <td>0.333333</td>\n",
       "      <td>0.666667</td>\n",
       "      <td>0.913171</td>\n",
       "      <td>0.086696</td>\n",
       "      <td>5</td>\n",
       "      <td>0</td>\n",
       "      <td>2916</td>\n",
       "    </tr>\n",
       "    <tr>\n",
       "      <th>3</th>\n",
       "      <td>‘00000004</td>\n",
       "      <td>30</td>\n",
       "      <td>128</td>\n",
       "      <td>4</td>\n",
       "      <td>男</td>\n",
       "      <td>45.0</td>\n",
       "      <td>12</td>\n",
       "      <td>0</td>\n",
       "      <td>2</td>\n",
       "      <td>2</td>\n",
       "      <td>...</td>\n",
       "      <td>2578</td>\n",
       "      <td>10826</td>\n",
       "      <td>4566</td>\n",
       "      <td>0.333333</td>\n",
       "      <td>0.666667</td>\n",
       "      <td>0.754232</td>\n",
       "      <td>0.245644</td>\n",
       "      <td>13</td>\n",
       "      <td>0</td>\n",
       "      <td>2791</td>\n",
       "    </tr>\n",
       "    <tr>\n",
       "      <th>4</th>\n",
       "      <td>‘00000005</td>\n",
       "      <td>95</td>\n",
       "      <td>35</td>\n",
       "      <td>4</td>\n",
       "      <td>男</td>\n",
       "      <td>57.0</td>\n",
       "      <td>3</td>\n",
       "      <td>1</td>\n",
       "      <td>1</td>\n",
       "      <td>0</td>\n",
       "      <td>...</td>\n",
       "      <td>0</td>\n",
       "      <td>2329</td>\n",
       "      <td>264</td>\n",
       "      <td>0.333333</td>\n",
       "      <td>0.666667</td>\n",
       "      <td>0.886266</td>\n",
       "      <td>0.113305</td>\n",
       "      <td>0</td>\n",
       "      <td>0</td>\n",
       "      <td>2245</td>\n",
       "    </tr>\n",
       "  </tbody>\n",
       "</table>\n",
       "<p>5 rows × 56 columns</p>\n",
       "</div>"
      ],
      "text/plain": [
       "   MEMBER_NO  DAYS_FROM_LAST_TO_END  DAYS_FROM_BEGIN_TO_FIRST  FFP_TIER  \\\n",
       "0  ‘00000001                    198                       525         4   \n",
       "1  ‘00000002                    114                        57         4   \n",
       "2  ‘00000003                     84                         6         4   \n",
       "3  ‘00000004                     30                       128         4   \n",
       "4  ‘00000005                     95                        35         4   \n",
       "\n",
       "  GENDER   age  FLIGHT_COUNT  FLIGHT_COUNT_QTR_1  FLIGHT_COUNT_QTR_2  \\\n",
       "0      男  40.0             3                   0                   0   \n",
       "1      男  52.0            24                   1                   5   \n",
       "2      女  52.0             9                   2                   2   \n",
       "3      男  45.0            12                   0                   2   \n",
       "4      男  57.0             3                   1                   1   \n",
       "\n",
       "   FLIGHT_COUNT_QTR_3  ...  L1Y_ELi_Add_Points  Points_Sum  L1Y_Points_Sum  \\\n",
       "0                   0  ...                   0        7035            7035   \n",
       "1                   7  ...                   0       16210            6717   \n",
       "2                   0  ...               63000       85008           63651   \n",
       "3                   2  ...                2578       10826            4566   \n",
       "4                   0  ...                   0        2329             264   \n",
       "\n",
       "   Ration_L1Y_Flight_Count  Ration_P1Y_Flight_Count  Ration_P1Y_BPS  \\\n",
       "0                 1.000000                 0.000000        0.000000   \n",
       "1                 0.458333                 0.541667        0.585590   \n",
       "2                 0.333333                 0.666667        0.913171   \n",
       "3                 0.333333                 0.666667        0.754232   \n",
       "4                 0.333333                 0.666667        0.886266   \n",
       "\n",
       "   Ration_L1Y_BPS  Point_Chg_NotFlight  runoff_flag  FFP_days  \n",
       "0        0.999858                    0            1      2923  \n",
       "1        0.414348                    0            0      2923  \n",
       "2        0.086696                    5            0      2916  \n",
       "3        0.245644                   13            0      2791  \n",
       "4        0.113305                    0            0      2245  \n",
       "\n",
       "[5 rows x 56 columns]"
      ]
     },
     "execution_count": 3,
     "metadata": {},
     "output_type": "execute_result"
    }
   ],
   "source": [
    "raw_data.head()"
   ]
  },
  {
   "cell_type": "code",
   "execution_count": 4,
   "id": "ef19959e",
   "metadata": {},
   "outputs": [
    {
     "data": {
      "text/plain": [
       "MEMBER_NO                    object\n",
       "DAYS_FROM_LAST_TO_END         int64\n",
       "DAYS_FROM_BEGIN_TO_FIRST      int64\n",
       "FFP_TIER                      int64\n",
       "GENDER                       object\n",
       "age                         float64\n",
       "FLIGHT_COUNT                  int64\n",
       "FLIGHT_COUNT_QTR_1            int64\n",
       "FLIGHT_COUNT_QTR_2            int64\n",
       "FLIGHT_COUNT_QTR_3            int64\n",
       "FLIGHT_COUNT_QTR_4            int64\n",
       "FLIGHT_COUNT_QTR_5            int64\n",
       "FLIGHT_COUNT_QTR_6            int64\n",
       "FLIGHT_COUNT_QTR_7            int64\n",
       "FLIGHT_COUNT_QTR_8            int64\n",
       "BASE_POINTS_SUM               int64\n",
       "BASE_POINTS_SUM_QTR_1         int64\n",
       "BASE_POINTS_SUM_QTR_2         int64\n",
       "BASE_POINTS_SUM_QTR_3         int64\n",
       "BASE_POINTS_SUM_QTR_4         int64\n",
       "BASE_POINTS_SUM_QTR_5         int64\n",
       "BASE_POINTS_SUM_QTR_6         int64\n",
       "BASE_POINTS_SUM_QTR_7         int64\n",
       "BASE_POINTS_SUM_QTR_8         int64\n",
       "ELITE_POINTS_SUM_YR_1         int64\n",
       "ELITE_POINTS_SUM_YR_2         int64\n",
       "EXPENSE_SUM_YR_1            float64\n",
       "EXPENSE_SUM_YR_2            float64\n",
       "SEG_KM_SUM                    int64\n",
       "WEIGHTED_SEG_KM             float64\n",
       "AVG_FLIGHT_COUNT            float64\n",
       "AVG_BASE_POINTS_SUM         float64\n",
       "AVG_FLIGHT_INTERVAL         float64\n",
       "MAX_FLIGHT_INTERVAL           int64\n",
       "MILEAGE_IN_COUNT              int64\n",
       "ADD_POINTS_SUM_YR_1           int64\n",
       "ADD_POINTS_SUM_YR_2           int64\n",
       "EXCHANGE_COUNT                int64\n",
       "avg_discount                float64\n",
       "P1Y_Flight_Count              int64\n",
       "L1Y_Flight_Count              int64\n",
       "P1Y_BASE_POINTS_SUM           int64\n",
       "L1Y_BASE_POINTS_SUM           int64\n",
       "ELITE_POINTS_SUM              int64\n",
       "ADD_POINTS_SUM                int64\n",
       "Eli_Add_Point_Sum             int64\n",
       "L1Y_ELi_Add_Points            int64\n",
       "Points_Sum                    int64\n",
       "L1Y_Points_Sum                int64\n",
       "Ration_L1Y_Flight_Count     float64\n",
       "Ration_P1Y_Flight_Count     float64\n",
       "Ration_P1Y_BPS              float64\n",
       "Ration_L1Y_BPS              float64\n",
       "Point_Chg_NotFlight           int64\n",
       "runoff_flag                   int64\n",
       "FFP_days                      int64\n",
       "dtype: object"
      ]
     },
     "execution_count": 4,
     "metadata": {},
     "output_type": "execute_result"
    }
   ],
   "source": [
    "raw_data.dtypes"
   ]
  },
  {
   "cell_type": "code",
   "execution_count": 5,
   "id": "6078b257",
   "metadata": {},
   "outputs": [
    {
     "name": "stdout",
     "output_type": "stream",
     "text": [
      "56\n",
      "62988\n"
     ]
    }
   ],
   "source": [
    "print(raw_data.columns.size)#列数 \n",
    "print(raw_data.iloc[:,0].size)#行数 "
   ]
  },
  {
   "cell_type": "markdown",
   "id": "c0378daa",
   "metadata": {},
   "source": [
    "特殊值处理"
   ]
  },
  {
   "cell_type": "code",
   "execution_count": 6,
   "id": "90e21076",
   "metadata": {},
   "outputs": [],
   "source": [
    "clean_data = raw_data.copy()\n",
    "clean_data_cols = []\n",
    "clean_data_rows = []"
   ]
  },
  {
   "cell_type": "markdown",
   "id": "7b259a9a",
   "metadata": {},
   "source": [
    "1.对MEMBER_NO格式做修改，原来的格式为’00000001，转化为00000001"
   ]
  },
  {
   "cell_type": "code",
   "execution_count": 7,
   "id": "9a07cfd1",
   "metadata": {},
   "outputs": [],
   "source": [
    "clean_data['MEMBER_NO'] = raw_data['MEMBER_NO'].apply(lambda x: x.split(\"‘\")[1])"
   ]
  },
  {
   "cell_type": "markdown",
   "id": "e75ce54c",
   "metadata": {},
   "source": [
    "2.将性别变量由字符型转化为数值型"
   ]
  },
  {
   "cell_type": "code",
   "execution_count": 8,
   "id": "b8cd0df6",
   "metadata": {},
   "outputs": [],
   "source": [
    "sex_mapping = {\"男\": 0, \"女\": 1}\n",
    "clean_data['GENDER'] = clean_data['GENDER'].map(sex_mapping)\n",
    "\n",
    "clean_data_cols.append(clean_data.columns.size)\n",
    "clean_data_rows.append(clean_data.iloc[:,0].size)"
   ]
  },
  {
   "cell_type": "markdown",
   "id": "85161f34",
   "metadata": {},
   "source": [
    "3.丢弃最大乘机间隔为0的客户记录"
   ]
  },
  {
   "cell_type": "code",
   "execution_count": 9,
   "id": "8ce0b562",
   "metadata": {},
   "outputs": [],
   "source": [
    "clean_data = clean_data[~clean_data['MAX_FLIGHT_INTERVAL'].eq(0)] \n",
    "\n",
    "clean_data_cols.append(clean_data.columns.size)\n",
    "clean_data_rows.append(clean_data.iloc[:,0].size)"
   ]
  },
  {
   "cell_type": "markdown",
   "id": "fecaffed",
   "metadata": {},
   "source": [
    "4.剔除第一年票价（ EXPENSE\\_SUM\\_YR\\_1）为空，第二年票价（EXPENSE\\_SUM\\_YR\\_2）为0的客户记录"
   ]
  },
  {
   "cell_type": "code",
   "execution_count": 10,
   "id": "73f2c4d5",
   "metadata": {},
   "outputs": [],
   "source": [
    "clean_data = clean_data[~(clean_data['EXPENSE_SUM_YR_1'].isnull() & clean_data['EXPENSE_SUM_YR_2'].eq(0))]\n",
    "\n",
    "clean_data_cols.append(clean_data.columns.size)\n",
    "clean_data_rows.append(clean_data.iloc[:,0].size)"
   ]
  },
  {
   "cell_type": "markdown",
   "id": "28de4e21",
   "metadata": {},
   "source": [
    "5.删除年龄（age）大于 70 的观测"
   ]
  },
  {
   "cell_type": "code",
   "execution_count": 11,
   "id": "a2d5d5ae",
   "metadata": {},
   "outputs": [],
   "source": [
    "clean_data = clean_data[~(clean_data['age']>70)]\n",
    "\n",
    "clean_data_cols.append(clean_data.columns.size)\n",
    "clean_data_rows.append(clean_data.iloc[:,0].size)"
   ]
  },
  {
   "cell_type": "markdown",
   "id": "1d68137b",
   "metadata": {},
   "source": [
    "6.对于分各季度与总值的变量，统一只保留总值（飞行次数1-8季度 第1，2年平均)"
   ]
  },
  {
   "cell_type": "code",
   "execution_count": 12,
   "id": "2b5598a1",
   "metadata": {},
   "outputs": [],
   "source": [
    "cols = []\n",
    "for i in range(1, 9):\n",
    "    cols.append('FLIGHT_COUNT_QTR_%s' % i)\n",
    "    cols.append('BASE_POINTS_SUM_QTR_%s' % i)\n",
    "cols = cols + ['AVG_FLIGHT_COUNT','AVG_BASE_POINTS_SUM'] + ['P1Y_BASE_POINTS_SUM','L1Y_BASE_POINTS_SUM'] + ['P1Y_Flight_Count','L1Y_Flight_Count']\n",
    "clean_data = clean_data.drop(cols,axis=1)\n",
    "\n",
    "clean_data_cols.append(clean_data.columns.size)\n",
    "clean_data_rows.append(clean_data.iloc[:,0].size)"
   ]
  },
  {
   "cell_type": "markdown",
   "id": "0c1361b4",
   "metadata": {},
   "source": [
    "7.冗余的变量\n",
    "精英积分+总加权飞行公里数+乘机次数比例+积分比例"
   ]
  },
  {
   "cell_type": "code",
   "execution_count": 13,
   "id": "98756931",
   "metadata": {},
   "outputs": [],
   "source": [
    "cols = ['ELITE_POINTS_SUM_YR_1','ELITE_POINTS_SUM_YR_2','ELITE_POINTS_SUM','WEIGHTED_SEG_KM','Ration_L1Y_Flight_Count','Ration_P1Y_Flight_Count','Ration_P1Y_BPS','Ration_L1Y_BPS']\n",
    "clean_data = clean_data.drop(cols,axis=1)\n",
    "\n",
    "clean_data_cols.append(clean_data.columns.size)\n",
    "clean_data_rows.append(clean_data.iloc[:,0].size)"
   ]
  },
  {
   "cell_type": "markdown",
   "id": "dd805d07",
   "metadata": {},
   "source": [
    "8.其他积分处理"
   ]
  },
  {
   "cell_type": "code",
   "execution_count": 14,
   "id": "25980c2a",
   "metadata": {},
   "outputs": [
    {
     "name": "stderr",
     "output_type": "stream",
     "text": [
      "<ipython-input-14-ac3e0e3582de>:2: SettingWithCopyWarning: \n",
      "A value is trying to be set on a copy of a slice from a DataFrame\n",
      "\n",
      "See the caveats in the documentation: https://pandas.pydata.org/pandas-docs/stable/user_guide/indexing.html#returning-a-view-versus-a-copy\n"
     ]
    }
   ],
   "source": [
    "clean_data['ADD_POINTS_SUM_YR'] = clean_data['ADD_POINTS_SUM_YR_1'] + clean_data['ADD_POINTS_SUM_YR_2']\n",
    "clean_data['ADD_POINTS_SUM_YR'][clean_data['ADD_POINTS_SUM_YR']>0] = 1\n",
    "clean_data = clean_data.drop(['ADD_POINTS_SUM_YR_1','ADD_POINTS_SUM_YR_2'],axis=1)\n",
    "\n",
    "clean_data_cols.append(clean_data.columns.size)\n",
    "clean_data_rows.append(clean_data.iloc[:,0].size)"
   ]
  },
  {
   "cell_type": "markdown",
   "id": "145e7407",
   "metadata": {},
   "source": [
    "9.其他处理"
   ]
  },
  {
   "cell_type": "code",
   "execution_count": 15,
   "id": "ef83321f",
   "metadata": {},
   "outputs": [],
   "source": [
    "clean_data = clean_data.drop(['ADD_POINTS_SUM','AVG_FLIGHT_INTERVAL','MAX_FLIGHT_INTERVAL','DAYS_FROM_LAST_TO_END','Eli_Add_Point_Sum','L1Y_ELi_Add_Points','Points_Sum','L1Y_Points_Sum','Point_Chg_NotFlight','MILEAGE_IN_COUNT'],axis=1)\n",
    "\n",
    "clean_data_cols.append(clean_data.columns.size)\n",
    "clean_data_rows.append(clean_data.iloc[:,0].size)"
   ]
  },
  {
   "cell_type": "markdown",
   "id": "3c4adb72",
   "metadata": {},
   "source": [
    "## 缺失值处理"
   ]
  },
  {
   "cell_type": "markdown",
   "id": "4f5e768d",
   "metadata": {},
   "source": [
    "1.统计缺失值"
   ]
  },
  {
   "cell_type": "code",
   "execution_count": 17,
   "id": "9a2fdb92",
   "metadata": {},
   "outputs": [
    {
     "name": "stdout",
     "output_type": "stream",
     "text": [
      "MEMBER_NO                     0\n",
      "DAYS_FROM_BEGIN_TO_FIRST      0\n",
      "FFP_TIER                      0\n",
      "GENDER                        3\n",
      "age                         413\n",
      "FLIGHT_COUNT                  0\n",
      "BASE_POINTS_SUM               0\n",
      "EXPENSE_SUM_YR_1              0\n",
      "EXPENSE_SUM_YR_2            134\n",
      "SEG_KM_SUM                    0\n",
      "EXCHANGE_COUNT                0\n",
      "avg_discount                  0\n",
      "runoff_flag                   0\n",
      "FFP_days                      0\n",
      "ADD_POINTS_SUM_YR             0\n",
      "dtype: int64\n"
     ]
    }
   ],
   "source": [
    "na1 = clean_data.isnull().sum()\n",
    "print(na1)"
   ]
  },
  {
   "cell_type": "markdown",
   "id": "7e061cb2",
   "metadata": {},
   "source": [
    "2.将性别缺失值的样本删除并将性别转化为整数型"
   ]
  },
  {
   "cell_type": "code",
   "execution_count": 18,
   "id": "dc6744cb",
   "metadata": {},
   "outputs": [],
   "source": [
    "clean_data = clean_data[~clean_data['GENDER'].isnull()]\n",
    "clean_data['GENDER'] = clean_data.GENDER.astype(int)"
   ]
  },
  {
   "cell_type": "markdown",
   "id": "46d82cce",
   "metadata": {},
   "source": [
    "3.对EXPENSE_SUM_YR_2变量缺失值用0填充"
   ]
  },
  {
   "cell_type": "code",
   "execution_count": 19,
   "id": "4d6f14d2",
   "metadata": {},
   "outputs": [],
   "source": [
    "clean_data['EXPENSE_SUM_YR_2'] = clean_data['EXPENSE_SUM_YR_2'].fillna(0)"
   ]
  },
  {
   "cell_type": "markdown",
   "id": "79bb8b07",
   "metadata": {},
   "source": [
    "4.使用热卡插补法填充age"
   ]
  },
  {
   "cell_type": "code",
   "execution_count": 20,
   "id": "76bdf8d0",
   "metadata": {},
   "outputs": [
    {
     "name": "stderr",
     "output_type": "stream",
     "text": [
      "<ipython-input-20-a1b58bb938a2>:6: SettingWithCopyWarning: \n",
      "A value is trying to be set on a copy of a slice from a DataFrame\n",
      "\n",
      "See the caveats in the documentation: https://pandas.pydata.org/pandas-docs/stable/user_guide/indexing.html#returning-a-view-versus-a-copy\n"
     ]
    }
   ],
   "source": [
    "from sklearn.impute import KNNImputer\n",
    "\n",
    "hot_deck_imputer = KNNImputer(n_neighbors=2, weights=\"uniform\")  \n",
    "hot_clean_data = pd.DataFrame(hot_deck_imputer.fit_transform(clean_data),index = clean_data.index)\n",
    "\n",
    "clean_data['age'][clean_data['age'].isnull()] = hot_clean_data[4][clean_data['age'].isnull()]\n",
    "na2 = clean_data.isnull().sum()\n",
    "pd.concat([na1, na2], axis=1)\n",
    "clean_data_cols.append(clean_data.columns.size)\n",
    "clean_data_rows.append(clean_data.iloc[:,0].size)"
   ]
  },
  {
   "cell_type": "markdown",
   "id": "67d85dd9",
   "metadata": {},
   "source": [
    "数据清洗过程及结果"
   ]
  },
  {
   "cell_type": "code",
   "execution_count": 21,
   "id": "8971f2f9",
   "metadata": {},
   "outputs": [
    {
     "data": {
      "text/html": [
       "<div>\n",
       "<style scoped>\n",
       "    .dataframe tbody tr th:only-of-type {\n",
       "        vertical-align: middle;\n",
       "    }\n",
       "\n",
       "    .dataframe tbody tr th {\n",
       "        vertical-align: top;\n",
       "    }\n",
       "\n",
       "    .dataframe thead th {\n",
       "        text-align: right;\n",
       "    }\n",
       "</style>\n",
       "<table border=\"1\" class=\"dataframe\">\n",
       "  <thead>\n",
       "    <tr style=\"text-align: right;\">\n",
       "      <th></th>\n",
       "      <th>cols</th>\n",
       "      <th>rows</th>\n",
       "    </tr>\n",
       "  </thead>\n",
       "  <tbody>\n",
       "    <tr>\n",
       "      <th>0</th>\n",
       "      <td>56</td>\n",
       "      <td>62988</td>\n",
       "    </tr>\n",
       "    <tr>\n",
       "      <th>1</th>\n",
       "      <td>56</td>\n",
       "      <td>62567</td>\n",
       "    </tr>\n",
       "    <tr>\n",
       "      <th>2</th>\n",
       "      <td>56</td>\n",
       "      <td>62037</td>\n",
       "    </tr>\n",
       "    <tr>\n",
       "      <th>3</th>\n",
       "      <td>56</td>\n",
       "      <td>61476</td>\n",
       "    </tr>\n",
       "    <tr>\n",
       "      <th>4</th>\n",
       "      <td>34</td>\n",
       "      <td>61476</td>\n",
       "    </tr>\n",
       "    <tr>\n",
       "      <th>5</th>\n",
       "      <td>26</td>\n",
       "      <td>61476</td>\n",
       "    </tr>\n",
       "    <tr>\n",
       "      <th>6</th>\n",
       "      <td>25</td>\n",
       "      <td>61476</td>\n",
       "    </tr>\n",
       "    <tr>\n",
       "      <th>7</th>\n",
       "      <td>15</td>\n",
       "      <td>61476</td>\n",
       "    </tr>\n",
       "    <tr>\n",
       "      <th>8</th>\n",
       "      <td>15</td>\n",
       "      <td>61473</td>\n",
       "    </tr>\n",
       "  </tbody>\n",
       "</table>\n",
       "</div>"
      ],
      "text/plain": [
       "   cols   rows\n",
       "0    56  62988\n",
       "1    56  62567\n",
       "2    56  62037\n",
       "3    56  61476\n",
       "4    34  61476\n",
       "5    26  61476\n",
       "6    25  61476\n",
       "7    15  61476\n",
       "8    15  61473"
      ]
     },
     "execution_count": 21,
     "metadata": {},
     "output_type": "execute_result"
    }
   ],
   "source": [
    "pd.DataFrame({'cols':clean_data_cols,'rows':clean_data_rows})"
   ]
  },
  {
   "cell_type": "code",
   "execution_count": 22,
   "id": "41d4ba36",
   "metadata": {},
   "outputs": [
    {
     "data": {
      "text/html": [
       "<div>\n",
       "<style scoped>\n",
       "    .dataframe tbody tr th:only-of-type {\n",
       "        vertical-align: middle;\n",
       "    }\n",
       "\n",
       "    .dataframe tbody tr th {\n",
       "        vertical-align: top;\n",
       "    }\n",
       "\n",
       "    .dataframe thead th {\n",
       "        text-align: right;\n",
       "    }\n",
       "</style>\n",
       "<table border=\"1\" class=\"dataframe\">\n",
       "  <thead>\n",
       "    <tr style=\"text-align: right;\">\n",
       "      <th></th>\n",
       "      <th>MEMBER_NO</th>\n",
       "      <th>DAYS_FROM_BEGIN_TO_FIRST</th>\n",
       "      <th>FFP_TIER</th>\n",
       "      <th>GENDER</th>\n",
       "      <th>age</th>\n",
       "      <th>FLIGHT_COUNT</th>\n",
       "      <th>BASE_POINTS_SUM</th>\n",
       "      <th>EXPENSE_SUM_YR_1</th>\n",
       "      <th>EXPENSE_SUM_YR_2</th>\n",
       "      <th>SEG_KM_SUM</th>\n",
       "      <th>EXCHANGE_COUNT</th>\n",
       "      <th>avg_discount</th>\n",
       "      <th>runoff_flag</th>\n",
       "      <th>FFP_days</th>\n",
       "      <th>ADD_POINTS_SUM_YR</th>\n",
       "    </tr>\n",
       "  </thead>\n",
       "  <tbody>\n",
       "    <tr>\n",
       "      <th>0</th>\n",
       "      <td>00000001</td>\n",
       "      <td>525</td>\n",
       "      <td>4</td>\n",
       "      <td>0</td>\n",
       "      <td>40.0</td>\n",
       "      <td>3</td>\n",
       "      <td>7035</td>\n",
       "      <td>0.0</td>\n",
       "      <td>7200.0</td>\n",
       "      <td>18770</td>\n",
       "      <td>0</td>\n",
       "      <td>0.658303</td>\n",
       "      <td>1</td>\n",
       "      <td>2923</td>\n",
       "      <td>0</td>\n",
       "    </tr>\n",
       "    <tr>\n",
       "      <th>1</th>\n",
       "      <td>00000002</td>\n",
       "      <td>57</td>\n",
       "      <td>4</td>\n",
       "      <td>0</td>\n",
       "      <td>52.0</td>\n",
       "      <td>24</td>\n",
       "      <td>16210</td>\n",
       "      <td>7981.0</td>\n",
       "      <td>6860.0</td>\n",
       "      <td>35087</td>\n",
       "      <td>0</td>\n",
       "      <td>0.615947</td>\n",
       "      <td>0</td>\n",
       "      <td>2923</td>\n",
       "      <td>0</td>\n",
       "    </tr>\n",
       "    <tr>\n",
       "      <th>2</th>\n",
       "      <td>00000003</td>\n",
       "      <td>6</td>\n",
       "      <td>4</td>\n",
       "      <td>1</td>\n",
       "      <td>52.0</td>\n",
       "      <td>9</td>\n",
       "      <td>7508</td>\n",
       "      <td>5793.0</td>\n",
       "      <td>2288.0</td>\n",
       "      <td>20660</td>\n",
       "      <td>2</td>\n",
       "      <td>0.522271</td>\n",
       "      <td>0</td>\n",
       "      <td>2916</td>\n",
       "      <td>1</td>\n",
       "    </tr>\n",
       "    <tr>\n",
       "      <th>3</th>\n",
       "      <td>00000004</td>\n",
       "      <td>128</td>\n",
       "      <td>4</td>\n",
       "      <td>0</td>\n",
       "      <td>45.0</td>\n",
       "      <td>12</td>\n",
       "      <td>8092</td>\n",
       "      <td>6970.0</td>\n",
       "      <td>3226.0</td>\n",
       "      <td>23071</td>\n",
       "      <td>0</td>\n",
       "      <td>0.511084</td>\n",
       "      <td>0</td>\n",
       "      <td>2791</td>\n",
       "      <td>1</td>\n",
       "    </tr>\n",
       "    <tr>\n",
       "      <th>4</th>\n",
       "      <td>00000005</td>\n",
       "      <td>35</td>\n",
       "      <td>4</td>\n",
       "      <td>0</td>\n",
       "      <td>57.0</td>\n",
       "      <td>3</td>\n",
       "      <td>2329</td>\n",
       "      <td>2480.0</td>\n",
       "      <td>380.0</td>\n",
       "      <td>2897</td>\n",
       "      <td>0</td>\n",
       "      <td>0.954166</td>\n",
       "      <td>0</td>\n",
       "      <td>2245</td>\n",
       "      <td>0</td>\n",
       "    </tr>\n",
       "  </tbody>\n",
       "</table>\n",
       "</div>"
      ],
      "text/plain": [
       "  MEMBER_NO  DAYS_FROM_BEGIN_TO_FIRST  FFP_TIER  GENDER   age  FLIGHT_COUNT  \\\n",
       "0  00000001                       525         4       0  40.0             3   \n",
       "1  00000002                        57         4       0  52.0            24   \n",
       "2  00000003                         6         4       1  52.0             9   \n",
       "3  00000004                       128         4       0  45.0            12   \n",
       "4  00000005                        35         4       0  57.0             3   \n",
       "\n",
       "   BASE_POINTS_SUM  EXPENSE_SUM_YR_1  EXPENSE_SUM_YR_2  SEG_KM_SUM  \\\n",
       "0             7035               0.0            7200.0       18770   \n",
       "1            16210            7981.0            6860.0       35087   \n",
       "2             7508            5793.0            2288.0       20660   \n",
       "3             8092            6970.0            3226.0       23071   \n",
       "4             2329            2480.0             380.0        2897   \n",
       "\n",
       "   EXCHANGE_COUNT  avg_discount  runoff_flag  FFP_days  ADD_POINTS_SUM_YR  \n",
       "0               0      0.658303            1      2923                  0  \n",
       "1               0      0.615947            0      2923                  0  \n",
       "2               2      0.522271            0      2916                  1  \n",
       "3               0      0.511084            0      2791                  1  \n",
       "4               0      0.954166            0      2245                  0  "
      ]
     },
     "execution_count": 22,
     "metadata": {},
     "output_type": "execute_result"
    }
   ],
   "source": [
    "clean_data.head()"
   ]
  },
  {
   "cell_type": "code",
   "execution_count": 23,
   "id": "d30096e1",
   "metadata": {},
   "outputs": [
    {
     "data": {
      "text/plain": [
       "MEMBER_NO                    object\n",
       "DAYS_FROM_BEGIN_TO_FIRST      int64\n",
       "FFP_TIER                      int64\n",
       "GENDER                        int32\n",
       "age                         float64\n",
       "FLIGHT_COUNT                  int64\n",
       "BASE_POINTS_SUM               int64\n",
       "EXPENSE_SUM_YR_1            float64\n",
       "EXPENSE_SUM_YR_2            float64\n",
       "SEG_KM_SUM                    int64\n",
       "EXCHANGE_COUNT                int64\n",
       "avg_discount                float64\n",
       "runoff_flag                   int64\n",
       "FFP_days                      int64\n",
       "ADD_POINTS_SUM_YR             int64\n",
       "dtype: object"
      ]
     },
     "execution_count": 23,
     "metadata": {},
     "output_type": "execute_result"
    }
   ],
   "source": [
    "clean_data.dtypes"
   ]
  },
  {
   "cell_type": "markdown",
   "id": "6d3b79d0",
   "metadata": {},
   "source": [
    "## 描述性统计分析"
   ]
  },
  {
   "cell_type": "markdown",
   "id": "c1cb976a",
   "metadata": {},
   "source": [
    "定义一个类用于数据的描述性统计分析"
   ]
  },
  {
   "cell_type": "code",
   "execution_count": 24,
   "id": "ca09bf69",
   "metadata": {},
   "outputs": [],
   "source": [
    "class data_analysis():\n",
    "    \n",
    "    def __init__(self,dataframe):\n",
    "        self.cols = list(dataframe.columns.values)\n",
    "        self.dataframe = dataframe\n",
    "    \n",
    "#     此函数可以计算分类变量各类所占百分比，col可以是单个变量也可以是多个变量计算复合百分比\n",
    "    def class_percentage(self,col):\n",
    "#         如果变量名不在dataframe中则抛出错误\n",
    "        if col not in self.cols:\n",
    "            raise TypeError('{}不在数据集中'.format(col))\n",
    "        col_data = self.dataframe.groupby(col).count()['MEMBER_NO']\n",
    "        per_data = col_data.div(col_data.sum(), axis=0)\n",
    "        return per_data  \n",
    "\n",
    "#     此函数可以获取两列类别变量的频数分布表\n",
    "    def frequency_table(self,col):\n",
    "#        如果任意变量名不在dataframe中则抛出错误 \n",
    "        if not set(col).issubset(set(self.cols)):\n",
    "            raise TypeError('请输入正确的变量！')\n",
    "#        如果输入的变量超过2个则抛出错误\n",
    "        if len(col)!=2:\n",
    "            raise TypeError('只能输入两个变量！')\n",
    "        fre_melt_data = pd.DataFrame(self.dataframe[col].value_counts()).reset_index()\n",
    "        fre_melt_data.rename(columns = {0: \"frequency\"},inplace=True)\n",
    "        frequency_data = fre_melt_data.pivot(index=[col[0]],columns=[col[1]])\n",
    "        frequency_data['total'] =  frequency_data.iloc[:,:].apply(np.sum, axis=1)\n",
    "        return frequency_data\n",
    "\n",
    "    \n",
    "#     此函数可以输出类别变量频数所占百分比表\n",
    "    def frequency_percentage_table(self,col,axis):\n",
    "#         axis=1表示按照行求百分比，axis=0表示按照列求百分比\n",
    "        freq_tabel = self.frequency_table(col).drop(['total'],axis=1)\n",
    "        if axis == 1:\n",
    "            per_table = freq_tabel.div(freq_tabel.sum(axis=1), axis=0)\n",
    "        else:\n",
    "            per_table = freq_tabel.div(freq_tabel.sum(axis=0), axis=1)\n",
    "        return per_table\n",
    "\n",
    "#     此函数可以输出一个dict,其中包括分类变量每个类对应的'runoff_flag'所有观测\n",
    "    def group_out(self,col):\n",
    "        groupednumbers = {}\n",
    "        for grp in self.dataframe[col].unique(): \n",
    "            groupednumbers[grp] = self.dataframe['runoff_flag'][self.dataframe[col]==grp].values\n",
    "        return groupednumbers\n",
    "    \n",
    " \n",
    "    def draw_pie(self,col):\n",
    "        data = self.frequency_table(col = col + ['runoff_flag']).drop(['total'],axis=1)\n",
    "        pic = plt.figure(figsize=(8,8),dpi=80)\n",
    "        class_num = data.iloc[:,0].size\n",
    "        labels = list(data.index.values)\n",
    "        for i in range(class_num):\n",
    "            a = pic.add_subplot(1,class_num,i+1)\n",
    "            b = data.iloc[i,:].index.values\n",
    "            plt.pie(data.iloc[i,:],labels=['留存率','流失率'],autopct='%.2f%%',shadow=True,explode=[0.02,0.02])\n",
    "            plt.title('{}= %s'.format(col[0]) %labels[i],fontsize=12)\n",
    "    \n",
    "    def draw_bar(self,col):\n",
    "        data =  pd.DataFrame(self.dataframe[col+['runoff_flag']].value_counts()).reset_index()\n",
    "        pd.Categorical(data[col[0]], categories=data[col[0]].unique())\n",
    "        data['runoff_flag'] = pd.Categorical(data['runoff_flag'], categories=data['runoff_flag'].unique())\n",
    "        data.rename(columns = {0: \"frequency\"},inplace=True)\n",
    "        g = (\n",
    "            ggplot(data, aes(x=col[0], y='frequency', fill='runoff_flag'))\n",
    "            + geom_col(stat='identity', position='dodge')\n",
    "            + theme_classic()\n",
    "            + theme(text = element_text(family = 'SimHei'))  \n",
    "        ) \n",
    "        return g"
   ]
  },
  {
   "cell_type": "markdown",
   "id": "90e49f80",
   "metadata": {},
   "source": [
    "连续变量离散化"
   ]
  },
  {
   "cell_type": "code",
   "execution_count": 25,
   "id": "b41ce5e5",
   "metadata": {},
   "outputs": [],
   "source": [
    "des_data = clean_data.copy()\n",
    "min_discount = min(des_data['avg_discount'])\n",
    "max_discount = max(des_data['avg_discount'])\n",
    "bins = [min_discount-0.1, 0.6, 0.8, max_discount+0.1]\n",
    "des_data['avg_discount'] = pd.cut(des_data['avg_discount'], bins, right=True,labels=['低','中','高']) \n",
    "\n",
    "min_flight_count = min(des_data['FLIGHT_COUNT'])\n",
    "max_flight_count = max(des_data['FLIGHT_COUNT'])\n",
    "bins = [min_flight_count-0.1, 3, 7,15, max_flight_count+0.1]\n",
    "des_data['FLIGHT_COUNT'] = pd.cut(des_data['FLIGHT_COUNT'], bins, right=True,labels=['少','较少','较多','多']) \n",
    "\n",
    "min_seg_sum = min(des_data['SEG_KM_SUM'])\n",
    "max_seg_sum = max(des_data['SEG_KM_SUM'])\n",
    "bins = [min_seg_sum-0.1, 5000, 10000,20000, max_seg_sum+0.1]\n",
    "des_data['SEG_KM_SUM'] = pd.cut(des_data['SEG_KM_SUM'], bins, right=True,labels=['低','中','中长','长'])\n",
    "\n",
    "min_points_sum = min(des_data['BASE_POINTS_SUM'])\n",
    "max_points_sum = max(des_data['BASE_POINTS_SUM'])\n",
    "bins = [min_points_sum-0.1, 2000, 6000,max_points_sum+0.1]\n",
    "des_data['BASE_POINTS_SUM'] = pd.cut(des_data['BASE_POINTS_SUM'], bins, right=True,labels=['低','中','高'])"
   ]
  },
  {
   "cell_type": "code",
   "execution_count": 26,
   "id": "39fe9af0",
   "metadata": {},
   "outputs": [],
   "source": [
    "des_data_class = data_analysis(des_data)"
   ]
  },
  {
   "cell_type": "markdown",
   "id": "c7b4e8bb",
   "metadata": {},
   "source": [
    "异常抛出试验"
   ]
  },
  {
   "cell_type": "code",
   "execution_count": 27,
   "id": "a9ba2a4e",
   "metadata": {},
   "outputs": [
    {
     "ename": "TypeError",
     "evalue": "runff_flag不在数据集中",
     "output_type": "error",
     "traceback": [
      "\u001b[1;31m---------------------------------------------------------------------------\u001b[0m",
      "\u001b[1;31mTypeError\u001b[0m                                 Traceback (most recent call last)",
      "\u001b[1;32m<ipython-input-27-da69485a9462>\u001b[0m in \u001b[0;36m<module>\u001b[1;34m\u001b[0m\n\u001b[1;32m----> 1\u001b[1;33m \u001b[0mprint\u001b[0m\u001b[1;33m(\u001b[0m\u001b[0mdes_data_class\u001b[0m\u001b[1;33m.\u001b[0m\u001b[0mclass_percentage\u001b[0m\u001b[1;33m(\u001b[0m\u001b[0mcol\u001b[0m \u001b[1;33m=\u001b[0m \u001b[1;34m'runff_flag'\u001b[0m\u001b[1;33m)\u001b[0m\u001b[1;33m)\u001b[0m\u001b[1;33m\u001b[0m\u001b[1;33m\u001b[0m\u001b[0m\n\u001b[0m",
      "\u001b[1;32m<ipython-input-24-d859eabd8533>\u001b[0m in \u001b[0;36mclass_percentage\u001b[1;34m(self, col)\u001b[0m\n\u001b[0;32m      9\u001b[0m \u001b[1;31m#         如果变量名不在dataframe中则抛出错误\u001b[0m\u001b[1;33m\u001b[0m\u001b[1;33m\u001b[0m\u001b[1;33m\u001b[0m\u001b[0m\n\u001b[0;32m     10\u001b[0m         \u001b[1;32mif\u001b[0m \u001b[0mcol\u001b[0m \u001b[1;32mnot\u001b[0m \u001b[1;32min\u001b[0m \u001b[0mself\u001b[0m\u001b[1;33m.\u001b[0m\u001b[0mcols\u001b[0m\u001b[1;33m:\u001b[0m\u001b[1;33m\u001b[0m\u001b[1;33m\u001b[0m\u001b[0m\n\u001b[1;32m---> 11\u001b[1;33m             \u001b[1;32mraise\u001b[0m \u001b[0mTypeError\u001b[0m\u001b[1;33m(\u001b[0m\u001b[1;34m'{}不在数据集中'\u001b[0m\u001b[1;33m.\u001b[0m\u001b[0mformat\u001b[0m\u001b[1;33m(\u001b[0m\u001b[0mcol\u001b[0m\u001b[1;33m)\u001b[0m\u001b[1;33m)\u001b[0m\u001b[1;33m\u001b[0m\u001b[1;33m\u001b[0m\u001b[0m\n\u001b[0m\u001b[0;32m     12\u001b[0m         \u001b[0mcol_data\u001b[0m \u001b[1;33m=\u001b[0m \u001b[0mself\u001b[0m\u001b[1;33m.\u001b[0m\u001b[0mdataframe\u001b[0m\u001b[1;33m.\u001b[0m\u001b[0mgroupby\u001b[0m\u001b[1;33m(\u001b[0m\u001b[0mcol\u001b[0m\u001b[1;33m)\u001b[0m\u001b[1;33m.\u001b[0m\u001b[0mcount\u001b[0m\u001b[1;33m(\u001b[0m\u001b[1;33m)\u001b[0m\u001b[1;33m[\u001b[0m\u001b[1;34m'MEMBER_NO'\u001b[0m\u001b[1;33m]\u001b[0m\u001b[1;33m\u001b[0m\u001b[1;33m\u001b[0m\u001b[0m\n\u001b[0;32m     13\u001b[0m         \u001b[0mper_data\u001b[0m \u001b[1;33m=\u001b[0m \u001b[0mcol_data\u001b[0m\u001b[1;33m.\u001b[0m\u001b[0mdiv\u001b[0m\u001b[1;33m(\u001b[0m\u001b[0mcol_data\u001b[0m\u001b[1;33m.\u001b[0m\u001b[0msum\u001b[0m\u001b[1;33m(\u001b[0m\u001b[1;33m)\u001b[0m\u001b[1;33m,\u001b[0m \u001b[0maxis\u001b[0m\u001b[1;33m=\u001b[0m\u001b[1;36m0\u001b[0m\u001b[1;33m)\u001b[0m\u001b[1;33m\u001b[0m\u001b[1;33m\u001b[0m\u001b[0m\n",
      "\u001b[1;31mTypeError\u001b[0m: runff_flag不在数据集中"
     ]
    }
   ],
   "source": [
    "print(des_data_class.class_percentage(col = 'runff_flag'))"
   ]
  },
  {
   "cell_type": "code",
   "execution_count": 28,
   "id": "2120340e",
   "metadata": {},
   "outputs": [
    {
     "ename": "TypeError",
     "evalue": "请输入正确的变量！",
     "output_type": "error",
     "traceback": [
      "\u001b[1;31m---------------------------------------------------------------------------\u001b[0m",
      "\u001b[1;31mTypeError\u001b[0m                                 Traceback (most recent call last)",
      "\u001b[1;32m<ipython-input-28-4831dbc11b26>\u001b[0m in \u001b[0;36m<module>\u001b[1;34m\u001b[0m\n\u001b[1;32m----> 1\u001b[1;33m \u001b[0mdes_data_class\u001b[0m\u001b[1;33m.\u001b[0m\u001b[0mfrequency_table\u001b[0m\u001b[1;33m(\u001b[0m\u001b[0mcol\u001b[0m \u001b[1;33m=\u001b[0m \u001b[1;33m[\u001b[0m\u001b[1;34m'FF_TIER'\u001b[0m\u001b[1;33m,\u001b[0m\u001b[1;34m'runoff_flag'\u001b[0m\u001b[1;33m]\u001b[0m\u001b[1;33m)\u001b[0m\u001b[1;33m\u001b[0m\u001b[1;33m\u001b[0m\u001b[0m\n\u001b[0m",
      "\u001b[1;32m<ipython-input-24-d859eabd8533>\u001b[0m in \u001b[0;36mfrequency_table\u001b[1;34m(self, col)\u001b[0m\n\u001b[0;32m     18\u001b[0m \u001b[1;31m#        如果任意变量名不在dataframe中则抛出错误\u001b[0m\u001b[1;33m\u001b[0m\u001b[1;33m\u001b[0m\u001b[1;33m\u001b[0m\u001b[0m\n\u001b[0;32m     19\u001b[0m         \u001b[1;32mif\u001b[0m \u001b[1;32mnot\u001b[0m \u001b[0mset\u001b[0m\u001b[1;33m(\u001b[0m\u001b[0mcol\u001b[0m\u001b[1;33m)\u001b[0m\u001b[1;33m.\u001b[0m\u001b[0missubset\u001b[0m\u001b[1;33m(\u001b[0m\u001b[0mset\u001b[0m\u001b[1;33m(\u001b[0m\u001b[0mself\u001b[0m\u001b[1;33m.\u001b[0m\u001b[0mcols\u001b[0m\u001b[1;33m)\u001b[0m\u001b[1;33m)\u001b[0m\u001b[1;33m:\u001b[0m\u001b[1;33m\u001b[0m\u001b[1;33m\u001b[0m\u001b[0m\n\u001b[1;32m---> 20\u001b[1;33m             \u001b[1;32mraise\u001b[0m \u001b[0mTypeError\u001b[0m\u001b[1;33m(\u001b[0m\u001b[1;34m'请输入正确的变量！'\u001b[0m\u001b[1;33m)\u001b[0m\u001b[1;33m\u001b[0m\u001b[1;33m\u001b[0m\u001b[0m\n\u001b[0m\u001b[0;32m     21\u001b[0m \u001b[1;31m#        如果输入的变量超过2个则抛出错误\u001b[0m\u001b[1;33m\u001b[0m\u001b[1;33m\u001b[0m\u001b[1;33m\u001b[0m\u001b[0m\n\u001b[0;32m     22\u001b[0m         \u001b[1;32mif\u001b[0m \u001b[0mlen\u001b[0m\u001b[1;33m(\u001b[0m\u001b[0mcol\u001b[0m\u001b[1;33m)\u001b[0m\u001b[1;33m!=\u001b[0m\u001b[1;36m2\u001b[0m\u001b[1;33m:\u001b[0m\u001b[1;33m\u001b[0m\u001b[1;33m\u001b[0m\u001b[0m\n",
      "\u001b[1;31mTypeError\u001b[0m: 请输入正确的变量！"
     ]
    }
   ],
   "source": [
    "des_data_class.frequency_table(col = ['FF_TIER','runoff_flag'])"
   ]
  },
  {
   "cell_type": "code",
   "execution_count": 29,
   "id": "4c47b0c5",
   "metadata": {},
   "outputs": [
    {
     "ename": "TypeError",
     "evalue": "只能输入两个变量！",
     "output_type": "error",
     "traceback": [
      "\u001b[1;31m---------------------------------------------------------------------------\u001b[0m",
      "\u001b[1;31mTypeError\u001b[0m                                 Traceback (most recent call last)",
      "\u001b[1;32m<ipython-input-29-dd07c4a264a7>\u001b[0m in \u001b[0;36m<module>\u001b[1;34m\u001b[0m\n\u001b[1;32m----> 1\u001b[1;33m \u001b[0mdes_data_class\u001b[0m\u001b[1;33m.\u001b[0m\u001b[0mfrequency_table\u001b[0m\u001b[1;33m(\u001b[0m\u001b[0mcol\u001b[0m \u001b[1;33m=\u001b[0m \u001b[1;33m[\u001b[0m\u001b[1;34m'runoff_flag'\u001b[0m\u001b[1;33m]\u001b[0m\u001b[1;33m)\u001b[0m\u001b[1;33m\u001b[0m\u001b[1;33m\u001b[0m\u001b[0m\n\u001b[0m",
      "\u001b[1;32m<ipython-input-24-d859eabd8533>\u001b[0m in \u001b[0;36mfrequency_table\u001b[1;34m(self, col)\u001b[0m\n\u001b[0;32m     21\u001b[0m \u001b[1;31m#        如果输入的变量超过2个则抛出错误\u001b[0m\u001b[1;33m\u001b[0m\u001b[1;33m\u001b[0m\u001b[1;33m\u001b[0m\u001b[0m\n\u001b[0;32m     22\u001b[0m         \u001b[1;32mif\u001b[0m \u001b[0mlen\u001b[0m\u001b[1;33m(\u001b[0m\u001b[0mcol\u001b[0m\u001b[1;33m)\u001b[0m\u001b[1;33m!=\u001b[0m\u001b[1;36m2\u001b[0m\u001b[1;33m:\u001b[0m\u001b[1;33m\u001b[0m\u001b[1;33m\u001b[0m\u001b[0m\n\u001b[1;32m---> 23\u001b[1;33m             \u001b[1;32mraise\u001b[0m \u001b[0mTypeError\u001b[0m\u001b[1;33m(\u001b[0m\u001b[1;34m'只能输入两个变量！'\u001b[0m\u001b[1;33m)\u001b[0m\u001b[1;33m\u001b[0m\u001b[1;33m\u001b[0m\u001b[0m\n\u001b[0m\u001b[0;32m     24\u001b[0m         \u001b[0mfre_melt_data\u001b[0m \u001b[1;33m=\u001b[0m \u001b[0mpd\u001b[0m\u001b[1;33m.\u001b[0m\u001b[0mDataFrame\u001b[0m\u001b[1;33m(\u001b[0m\u001b[0mself\u001b[0m\u001b[1;33m.\u001b[0m\u001b[0mdataframe\u001b[0m\u001b[1;33m[\u001b[0m\u001b[0mcol\u001b[0m\u001b[1;33m]\u001b[0m\u001b[1;33m.\u001b[0m\u001b[0mvalue_counts\u001b[0m\u001b[1;33m(\u001b[0m\u001b[1;33m)\u001b[0m\u001b[1;33m)\u001b[0m\u001b[1;33m.\u001b[0m\u001b[0mreset_index\u001b[0m\u001b[1;33m(\u001b[0m\u001b[1;33m)\u001b[0m\u001b[1;33m\u001b[0m\u001b[1;33m\u001b[0m\u001b[0m\n\u001b[0;32m     25\u001b[0m         \u001b[0mfre_melt_data\u001b[0m\u001b[1;33m.\u001b[0m\u001b[0mrename\u001b[0m\u001b[1;33m(\u001b[0m\u001b[0mcolumns\u001b[0m \u001b[1;33m=\u001b[0m \u001b[1;33m{\u001b[0m\u001b[1;36m0\u001b[0m\u001b[1;33m:\u001b[0m \u001b[1;34m\"frequency\"\u001b[0m\u001b[1;33m}\u001b[0m\u001b[1;33m,\u001b[0m\u001b[0minplace\u001b[0m\u001b[1;33m=\u001b[0m\u001b[1;32mTrue\u001b[0m\u001b[1;33m)\u001b[0m\u001b[1;33m\u001b[0m\u001b[1;33m\u001b[0m\u001b[0m\n",
      "\u001b[1;31mTypeError\u001b[0m: 只能输入两个变量！"
     ]
    }
   ],
   "source": [
    "des_data_class.frequency_table(col = ['runoff_flag'])"
   ]
  },
  {
   "cell_type": "markdown",
   "id": "d7445000",
   "metadata": {},
   "source": [
    "描述性分析"
   ]
  },
  {
   "cell_type": "code",
   "execution_count": 30,
   "id": "5ebfb0c9",
   "metadata": {},
   "outputs": [],
   "source": [
    "plt.style.use('seaborn-white')"
   ]
  },
  {
   "cell_type": "markdown",
   "id": "8196ab56",
   "metadata": {},
   "source": [
    "1.基本描述"
   ]
  },
  {
   "cell_type": "markdown",
   "id": "99d37f22",
   "metadata": {},
   "source": [
    "流失用户占比"
   ]
  },
  {
   "cell_type": "code",
   "execution_count": 31,
   "id": "24603061",
   "metadata": {},
   "outputs": [
    {
     "name": "stdout",
     "output_type": "stream",
     "text": [
      "runoff_flag\n",
      "0    0.621818\n",
      "1    0.378182\n",
      "Name: MEMBER_NO, dtype: float64\n"
     ]
    }
   ],
   "source": [
    "print(des_data_class.class_percentage(col = 'runoff_flag'))"
   ]
  },
  {
   "cell_type": "markdown",
   "id": "96434af8",
   "metadata": {},
   "source": [
    "性别比例"
   ]
  },
  {
   "cell_type": "code",
   "execution_count": 32,
   "id": "3481addd",
   "metadata": {},
   "outputs": [
    {
     "name": "stdout",
     "output_type": "stream",
     "text": [
      "GENDER\n",
      "0    0.765263\n",
      "1    0.234737\n",
      "Name: MEMBER_NO, dtype: float64\n"
     ]
    }
   ],
   "source": [
    "print(des_data_class.class_percentage(col = 'GENDER'))"
   ]
  },
  {
   "cell_type": "markdown",
   "id": "501fcf2d",
   "metadata": {},
   "source": [
    "会员等级比例"
   ]
  },
  {
   "cell_type": "code",
   "execution_count": 33,
   "id": "8729b067",
   "metadata": {},
   "outputs": [
    {
     "name": "stdout",
     "output_type": "stream",
     "text": [
      "FFP_TIER\n",
      "4    0.920420\n",
      "5    0.055146\n",
      "6    0.024433\n",
      "Name: MEMBER_NO, dtype: float64\n"
     ]
    }
   ],
   "source": [
    "print(des_data_class.class_percentage(col = 'FFP_TIER'))"
   ]
  },
  {
   "cell_type": "markdown",
   "id": "c85de70b",
   "metadata": {},
   "source": [
    "会员等级与流失标志频数列联表"
   ]
  },
  {
   "cell_type": "code",
   "execution_count": 34,
   "id": "4bfaf938",
   "metadata": {},
   "outputs": [
    {
     "data": {
      "text/html": [
       "<div>\n",
       "<style scoped>\n",
       "    .dataframe tbody tr th:only-of-type {\n",
       "        vertical-align: middle;\n",
       "    }\n",
       "\n",
       "    .dataframe tbody tr th {\n",
       "        vertical-align: top;\n",
       "    }\n",
       "\n",
       "    .dataframe thead tr th {\n",
       "        text-align: left;\n",
       "    }\n",
       "\n",
       "    .dataframe thead tr:last-of-type th {\n",
       "        text-align: right;\n",
       "    }\n",
       "</style>\n",
       "<table border=\"1\" class=\"dataframe\">\n",
       "  <thead>\n",
       "    <tr>\n",
       "      <th></th>\n",
       "      <th colspan=\"2\" halign=\"left\">frequency</th>\n",
       "      <th>total</th>\n",
       "    </tr>\n",
       "    <tr>\n",
       "      <th>runoff_flag</th>\n",
       "      <th>0</th>\n",
       "      <th>1</th>\n",
       "      <th></th>\n",
       "    </tr>\n",
       "    <tr>\n",
       "      <th>FFP_TIER</th>\n",
       "      <th></th>\n",
       "      <th></th>\n",
       "      <th></th>\n",
       "    </tr>\n",
       "  </thead>\n",
       "  <tbody>\n",
       "    <tr>\n",
       "      <th>4</th>\n",
       "      <td>33666</td>\n",
       "      <td>22915</td>\n",
       "      <td>56581</td>\n",
       "    </tr>\n",
       "    <tr>\n",
       "      <th>5</th>\n",
       "      <td>3220</td>\n",
       "      <td>170</td>\n",
       "      <td>3390</td>\n",
       "    </tr>\n",
       "    <tr>\n",
       "      <th>6</th>\n",
       "      <td>1339</td>\n",
       "      <td>163</td>\n",
       "      <td>1502</td>\n",
       "    </tr>\n",
       "  </tbody>\n",
       "</table>\n",
       "</div>"
      ],
      "text/plain": [
       "            frequency         total\n",
       "runoff_flag         0      1       \n",
       "FFP_TIER                           \n",
       "4               33666  22915  56581\n",
       "5                3220    170   3390\n",
       "6                1339    163   1502"
      ]
     },
     "execution_count": 34,
     "metadata": {},
     "output_type": "execute_result"
    }
   ],
   "source": [
    "des_data_class.frequency_table(col = ['FFP_TIER','runoff_flag'])"
   ]
  },
  {
   "cell_type": "markdown",
   "id": "c67247ce",
   "metadata": {},
   "source": [
    "会员等级与流失标志百分比列联表"
   ]
  },
  {
   "cell_type": "code",
   "execution_count": 35,
   "id": "70881f94",
   "metadata": {},
   "outputs": [
    {
     "data": {
      "text/html": [
       "<div>\n",
       "<style scoped>\n",
       "    .dataframe tbody tr th:only-of-type {\n",
       "        vertical-align: middle;\n",
       "    }\n",
       "\n",
       "    .dataframe tbody tr th {\n",
       "        vertical-align: top;\n",
       "    }\n",
       "\n",
       "    .dataframe thead tr th {\n",
       "        text-align: left;\n",
       "    }\n",
       "\n",
       "    .dataframe thead tr:last-of-type th {\n",
       "        text-align: right;\n",
       "    }\n",
       "</style>\n",
       "<table border=\"1\" class=\"dataframe\">\n",
       "  <thead>\n",
       "    <tr>\n",
       "      <th></th>\n",
       "      <th colspan=\"2\" halign=\"left\">frequency</th>\n",
       "    </tr>\n",
       "    <tr>\n",
       "      <th>runoff_flag</th>\n",
       "      <th>0</th>\n",
       "      <th>1</th>\n",
       "    </tr>\n",
       "    <tr>\n",
       "      <th>FFP_TIER</th>\n",
       "      <th></th>\n",
       "      <th></th>\n",
       "    </tr>\n",
       "  </thead>\n",
       "  <tbody>\n",
       "    <tr>\n",
       "      <th>4</th>\n",
       "      <td>0.595005</td>\n",
       "      <td>0.404995</td>\n",
       "    </tr>\n",
       "    <tr>\n",
       "      <th>5</th>\n",
       "      <td>0.949853</td>\n",
       "      <td>0.050147</td>\n",
       "    </tr>\n",
       "    <tr>\n",
       "      <th>6</th>\n",
       "      <td>0.891478</td>\n",
       "      <td>0.108522</td>\n",
       "    </tr>\n",
       "  </tbody>\n",
       "</table>\n",
       "</div>"
      ],
      "text/plain": [
       "            frequency          \n",
       "runoff_flag         0         1\n",
       "FFP_TIER                       \n",
       "4            0.595005  0.404995\n",
       "5            0.949853  0.050147\n",
       "6            0.891478  0.108522"
      ]
     },
     "execution_count": 35,
     "metadata": {},
     "output_type": "execute_result"
    }
   ],
   "source": [
    "des_data_class.frequency_percentage_table(col = ['FFP_TIER','runoff_flag'],axis=1)"
   ]
  },
  {
   "cell_type": "markdown",
   "id": "a08a08d1",
   "metadata": {},
   "source": [
    "性别与流失标志频数列联表"
   ]
  },
  {
   "cell_type": "code",
   "execution_count": 36,
   "id": "a10796af",
   "metadata": {},
   "outputs": [
    {
     "data": {
      "text/html": [
       "<div>\n",
       "<style scoped>\n",
       "    .dataframe tbody tr th:only-of-type {\n",
       "        vertical-align: middle;\n",
       "    }\n",
       "\n",
       "    .dataframe tbody tr th {\n",
       "        vertical-align: top;\n",
       "    }\n",
       "\n",
       "    .dataframe thead tr th {\n",
       "        text-align: left;\n",
       "    }\n",
       "\n",
       "    .dataframe thead tr:last-of-type th {\n",
       "        text-align: right;\n",
       "    }\n",
       "</style>\n",
       "<table border=\"1\" class=\"dataframe\">\n",
       "  <thead>\n",
       "    <tr>\n",
       "      <th></th>\n",
       "      <th colspan=\"2\" halign=\"left\">frequency</th>\n",
       "      <th>total</th>\n",
       "    </tr>\n",
       "    <tr>\n",
       "      <th>runoff_flag</th>\n",
       "      <th>0</th>\n",
       "      <th>1</th>\n",
       "      <th></th>\n",
       "    </tr>\n",
       "    <tr>\n",
       "      <th>GENDER</th>\n",
       "      <th></th>\n",
       "      <th></th>\n",
       "      <th></th>\n",
       "    </tr>\n",
       "  </thead>\n",
       "  <tbody>\n",
       "    <tr>\n",
       "      <th>0</th>\n",
       "      <td>30086</td>\n",
       "      <td>16957</td>\n",
       "      <td>47043</td>\n",
       "    </tr>\n",
       "    <tr>\n",
       "      <th>1</th>\n",
       "      <td>8139</td>\n",
       "      <td>6291</td>\n",
       "      <td>14430</td>\n",
       "    </tr>\n",
       "  </tbody>\n",
       "</table>\n",
       "</div>"
      ],
      "text/plain": [
       "            frequency         total\n",
       "runoff_flag         0      1       \n",
       "GENDER                             \n",
       "0               30086  16957  47043\n",
       "1                8139   6291  14430"
      ]
     },
     "execution_count": 36,
     "metadata": {},
     "output_type": "execute_result"
    }
   ],
   "source": [
    "des_data_class.frequency_table(col = ['GENDER','runoff_flag'])"
   ]
  },
  {
   "cell_type": "markdown",
   "id": "6a8a9d9f",
   "metadata": {},
   "source": [
    "## 列联分析"
   ]
  },
  {
   "cell_type": "markdown",
   "id": "f68021c9",
   "metadata": {},
   "source": [
    "### 客户特征：会员卡等级与流失指标的列联分析"
   ]
  },
  {
   "cell_type": "markdown",
   "id": "5b7d0b99",
   "metadata": {},
   "source": [
    "非参数检验"
   ]
  },
  {
   "cell_type": "code",
   "execution_count": 37,
   "id": "ef2398ad",
   "metadata": {},
   "outputs": [
    {
     "data": {
      "text/plain": [
       "KruskalResult(statistic=2188.613592848183, pvalue=0.0)"
      ]
     },
     "execution_count": 37,
     "metadata": {},
     "output_type": "execute_result"
    }
   ],
   "source": [
    "import scipy.stats as stats\n",
    "groupednumbers = des_data_class.group_out('FFP_TIER')\n",
    "stats.kruskal(groupednumbers[4],groupednumbers[5],groupednumbers[6])"
   ]
  },
  {
   "cell_type": "markdown",
   "id": "55ef7086",
   "metadata": {},
   "source": [
    "饼图"
   ]
  },
  {
   "cell_type": "code",
   "execution_count": 38,
   "id": "8782e2fa",
   "metadata": {},
   "outputs": [
    {
     "data": {
      "image/png": "[encoded data removed]",
      "text/plain": [
       "<Figure size 640x640 with 3 Axes>"
      ]
     },
     "metadata": {},
     "output_type": "display_data"
    }
   ],
   "source": [
    "plt.rcParams['font.sans-serif']=['SimHei']\n",
    "des_data_class.draw_pie(['FFP_TIER'])"
   ]
  },
  {
   "cell_type": "markdown",
   "id": "a750f110",
   "metadata": {},
   "source": [
    "### 会员特征：平均折扣率与流失指标列联分析 "
   ]
  },
  {
   "cell_type": "code",
   "execution_count": 39,
   "id": "f7192728",
   "metadata": {},
   "outputs": [
    {
     "data": {
      "text/html": [
       "<div>\n",
       "<style scoped>\n",
       "    .dataframe tbody tr th:only-of-type {\n",
       "        vertical-align: middle;\n",
       "    }\n",
       "\n",
       "    .dataframe tbody tr th {\n",
       "        vertical-align: top;\n",
       "    }\n",
       "\n",
       "    .dataframe thead tr th {\n",
       "        text-align: left;\n",
       "    }\n",
       "\n",
       "    .dataframe thead tr:last-of-type th {\n",
       "        text-align: right;\n",
       "    }\n",
       "</style>\n",
       "<table border=\"1\" class=\"dataframe\">\n",
       "  <thead>\n",
       "    <tr>\n",
       "      <th></th>\n",
       "      <th colspan=\"2\" halign=\"left\">frequency</th>\n",
       "      <th>total</th>\n",
       "    </tr>\n",
       "    <tr>\n",
       "      <th>runoff_flag</th>\n",
       "      <th>0</th>\n",
       "      <th>1</th>\n",
       "      <th></th>\n",
       "    </tr>\n",
       "    <tr>\n",
       "      <th>avg_discount</th>\n",
       "      <th></th>\n",
       "      <th></th>\n",
       "      <th></th>\n",
       "    </tr>\n",
       "  </thead>\n",
       "  <tbody>\n",
       "    <tr>\n",
       "      <th>低</th>\n",
       "      <td>7647</td>\n",
       "      <td>6190</td>\n",
       "      <td>13837</td>\n",
       "    </tr>\n",
       "    <tr>\n",
       "      <th>中</th>\n",
       "      <td>20850</td>\n",
       "      <td>10350</td>\n",
       "      <td>31200</td>\n",
       "    </tr>\n",
       "    <tr>\n",
       "      <th>高</th>\n",
       "      <td>9728</td>\n",
       "      <td>6708</td>\n",
       "      <td>16436</td>\n",
       "    </tr>\n",
       "  </tbody>\n",
       "</table>\n",
       "</div>"
      ],
      "text/plain": [
       "             frequency         total\n",
       "runoff_flag          0      1       \n",
       "avg_discount                        \n",
       "低                 7647   6190  13837\n",
       "中                20850  10350  31200\n",
       "高                 9728   6708  16436"
      ]
     },
     "execution_count": 39,
     "metadata": {},
     "output_type": "execute_result"
    }
   ],
   "source": [
    "des_data_class.frequency_table(col = ['avg_discount','runoff_flag'])"
   ]
  },
  {
   "cell_type": "markdown",
   "id": "f22ca051",
   "metadata": {},
   "source": [
    "条形图"
   ]
  },
  {
   "cell_type": "code",
   "execution_count": 40,
   "id": "99d71fa0",
   "metadata": {},
   "outputs": [
    {
     "data": {
      "image/png": "[encoded data removed]",
      "text/plain": [
       "<Figure size 640x480 with 1 Axes>"
      ]
     },
     "metadata": {},
     "output_type": "display_data"
    },
    {
     "data": {
      "text/plain": [
       "<ggplot: (181231015367)>"
      ]
     },
     "execution_count": 40,
     "metadata": {},
     "output_type": "execute_result"
    }
   ],
   "source": [
    "des_data_class.draw_bar(['avg_discount'])"
   ]
  },
  {
   "cell_type": "markdown",
   "id": "324e07c3",
   "metadata": {},
   "source": [
    "Kruskal-Wallis 检验"
   ]
  },
  {
   "cell_type": "code",
   "execution_count": 41,
   "id": "c26001d0",
   "metadata": {},
   "outputs": [
    {
     "data": {
      "text/plain": [
       "KruskalResult(statistic=630.4618129323329, pvalue=1.2501346606323494e-137)"
      ]
     },
     "execution_count": 41,
     "metadata": {},
     "output_type": "execute_result"
    }
   ],
   "source": [
    "groupednumbers = des_data_class.group_out('avg_discount')\n",
    "stats.kruskal(groupednumbers['低'],groupednumbers['中'],groupednumbers['高'])"
   ]
  },
  {
   "cell_type": "markdown",
   "id": "3b0ccd9a",
   "metadata": {},
   "source": [
    "飞行特征：飞行次数与流失指标的列联检验"
   ]
  },
  {
   "cell_type": "code",
   "execution_count": 42,
   "id": "ce43a6e2",
   "metadata": {},
   "outputs": [
    {
     "data": {
      "text/html": [
       "<div>\n",
       "<style scoped>\n",
       "    .dataframe tbody tr th:only-of-type {\n",
       "        vertical-align: middle;\n",
       "    }\n",
       "\n",
       "    .dataframe tbody tr th {\n",
       "        vertical-align: top;\n",
       "    }\n",
       "\n",
       "    .dataframe thead tr th {\n",
       "        text-align: left;\n",
       "    }\n",
       "\n",
       "    .dataframe thead tr:last-of-type th {\n",
       "        text-align: right;\n",
       "    }\n",
       "</style>\n",
       "<table border=\"1\" class=\"dataframe\">\n",
       "  <thead>\n",
       "    <tr>\n",
       "      <th></th>\n",
       "      <th colspan=\"2\" halign=\"left\">frequency</th>\n",
       "      <th>total</th>\n",
       "    </tr>\n",
       "    <tr>\n",
       "      <th>runoff_flag</th>\n",
       "      <th>0</th>\n",
       "      <th>1</th>\n",
       "      <th></th>\n",
       "    </tr>\n",
       "    <tr>\n",
       "      <th>FLIGHT_COUNT</th>\n",
       "      <th></th>\n",
       "      <th></th>\n",
       "      <th></th>\n",
       "    </tr>\n",
       "  </thead>\n",
       "  <tbody>\n",
       "    <tr>\n",
       "      <th>少</th>\n",
       "      <td>4818</td>\n",
       "      <td>10972</td>\n",
       "      <td>15790</td>\n",
       "    </tr>\n",
       "    <tr>\n",
       "      <th>较少</th>\n",
       "      <td>9491</td>\n",
       "      <td>6843</td>\n",
       "      <td>16334</td>\n",
       "    </tr>\n",
       "    <tr>\n",
       "      <th>较多</th>\n",
       "      <td>11121</td>\n",
       "      <td>3658</td>\n",
       "      <td>14779</td>\n",
       "    </tr>\n",
       "    <tr>\n",
       "      <th>多</th>\n",
       "      <td>12795</td>\n",
       "      <td>1775</td>\n",
       "      <td>14570</td>\n",
       "    </tr>\n",
       "  </tbody>\n",
       "</table>\n",
       "</div>"
      ],
      "text/plain": [
       "             frequency         total\n",
       "runoff_flag          0      1       \n",
       "FLIGHT_COUNT                        \n",
       "少                 4818  10972  15790\n",
       "较少                9491   6843  16334\n",
       "较多               11121   3658  14779\n",
       "多                12795   1775  14570"
      ]
     },
     "execution_count": 42,
     "metadata": {},
     "output_type": "execute_result"
    }
   ],
   "source": [
    "des_data_class.frequency_table(col = ['FLIGHT_COUNT','runoff_flag'])"
   ]
  },
  {
   "cell_type": "markdown",
   "id": "7198ecf6",
   "metadata": {},
   "source": [
    "条形图"
   ]
  },
  {
   "cell_type": "code",
   "execution_count": 43,
   "id": "305b8a40",
   "metadata": {},
   "outputs": [
    {
     "data": {
      "image/png": "[encoded data removed]",
      "text/plain": [
       "<Figure size 640x480 with 1 Axes>"
      ]
     },
     "metadata": {},
     "output_type": "display_data"
    },
    {
     "data": {
      "text/plain": [
       "<ggplot: (181231060980)>"
      ]
     },
     "execution_count": 43,
     "metadata": {},
     "output_type": "execute_result"
    }
   ],
   "source": [
    "des_data_class.draw_bar(['FLIGHT_COUNT'])"
   ]
  },
  {
   "cell_type": "markdown",
   "id": "9df41534",
   "metadata": {},
   "source": [
    "Kruskal-Wallis 检验"
   ]
  },
  {
   "cell_type": "code",
   "execution_count": 44,
   "id": "e28b89c6",
   "metadata": {},
   "outputs": [
    {
     "data": {
      "text/plain": [
       "KruskalResult(statistic=11994.16355434787, pvalue=0.0)"
      ]
     },
     "execution_count": 44,
     "metadata": {},
     "output_type": "execute_result"
    }
   ],
   "source": [
    "groupednumbers = des_data_class.group_out('FLIGHT_COUNT')\n",
    "stats.kruskal(groupednumbers['少'],groupednumbers['较少'],groupednumbers['较多'],groupednumbers['多'])"
   ]
  },
  {
   "cell_type": "markdown",
   "id": "196ad554",
   "metadata": {},
   "source": [
    "### 积分特征：总基本积分与流失指标的列联分析"
   ]
  },
  {
   "cell_type": "code",
   "execution_count": 45,
   "id": "6cff55f2",
   "metadata": {},
   "outputs": [
    {
     "data": {
      "text/html": [
       "<div>\n",
       "<style scoped>\n",
       "    .dataframe tbody tr th:only-of-type {\n",
       "        vertical-align: middle;\n",
       "    }\n",
       "\n",
       "    .dataframe tbody tr th {\n",
       "        vertical-align: top;\n",
       "    }\n",
       "\n",
       "    .dataframe thead tr th {\n",
       "        text-align: left;\n",
       "    }\n",
       "\n",
       "    .dataframe thead tr:last-of-type th {\n",
       "        text-align: right;\n",
       "    }\n",
       "</style>\n",
       "<table border=\"1\" class=\"dataframe\">\n",
       "  <thead>\n",
       "    <tr>\n",
       "      <th></th>\n",
       "      <th colspan=\"2\" halign=\"left\">frequency</th>\n",
       "      <th>total</th>\n",
       "    </tr>\n",
       "    <tr>\n",
       "      <th>runoff_flag</th>\n",
       "      <th>0</th>\n",
       "      <th>1</th>\n",
       "      <th></th>\n",
       "    </tr>\n",
       "    <tr>\n",
       "      <th>BASE_POINTS_SUM</th>\n",
       "      <th></th>\n",
       "      <th></th>\n",
       "      <th></th>\n",
       "    </tr>\n",
       "  </thead>\n",
       "  <tbody>\n",
       "    <tr>\n",
       "      <th>低</th>\n",
       "      <td>3778</td>\n",
       "      <td>7507</td>\n",
       "      <td>11285</td>\n",
       "    </tr>\n",
       "    <tr>\n",
       "      <th>中</th>\n",
       "      <td>10686</td>\n",
       "      <td>9434</td>\n",
       "      <td>20120</td>\n",
       "    </tr>\n",
       "    <tr>\n",
       "      <th>高</th>\n",
       "      <td>23761</td>\n",
       "      <td>6307</td>\n",
       "      <td>30068</td>\n",
       "    </tr>\n",
       "  </tbody>\n",
       "</table>\n",
       "</div>"
      ],
      "text/plain": [
       "                frequency        total\n",
       "runoff_flag             0     1       \n",
       "BASE_POINTS_SUM                       \n",
       "低                    3778  7507  11285\n",
       "中                   10686  9434  20120\n",
       "高                   23761  6307  30068"
      ]
     },
     "execution_count": 45,
     "metadata": {},
     "output_type": "execute_result"
    }
   ],
   "source": [
    "des_data_class.frequency_table(col = ['BASE_POINTS_SUM','runoff_flag'])"
   ]
  },
  {
   "cell_type": "markdown",
   "id": "5519a439",
   "metadata": {},
   "source": [
    "条形图"
   ]
  },
  {
   "cell_type": "code",
   "execution_count": 46,
   "id": "4423c4b8",
   "metadata": {},
   "outputs": [
    {
     "data": {
      "image/png": "[encoded data removed]",
      "text/plain": [
       "<Figure size 640x480 with 1 Axes>"
      ]
     },
     "metadata": {},
     "output_type": "display_data"
    },
    {
     "data": {
      "text/plain": [
       "<ggplot: (181231218673)>"
      ]
     },
     "execution_count": 46,
     "metadata": {},
     "output_type": "execute_result"
    }
   ],
   "source": [
    "des_data_class.draw_bar(['BASE_POINTS_SUM'])"
   ]
  },
  {
   "cell_type": "markdown",
   "id": "c1a93b60",
   "metadata": {},
   "source": [
    "Kruskal-Wallis 检验"
   ]
  },
  {
   "cell_type": "code",
   "execution_count": 47,
   "id": "24a535c6",
   "metadata": {},
   "outputs": [
    {
     "data": {
      "text/plain": [
       "KruskalResult(statistic=8284.589307497557, pvalue=0.0)"
      ]
     },
     "execution_count": 47,
     "metadata": {},
     "output_type": "execute_result"
    }
   ],
   "source": [
    "groupednumbers = des_data_class.group_out('BASE_POINTS_SUM')\n",
    "stats.kruskal(groupednumbers['低'],groupednumbers['中'],groupednumbers['高'])"
   ]
  },
  {
   "cell_type": "markdown",
   "id": "b5b15ca0",
   "metadata": {},
   "source": [
    "用户画像"
   ]
  },
  {
   "cell_type": "code",
   "execution_count": 48,
   "id": "14cbe753",
   "metadata": {},
   "outputs": [
    {
     "data": {
      "text/html": [
       "<div>\n",
       "<style scoped>\n",
       "    .dataframe tbody tr th:only-of-type {\n",
       "        vertical-align: middle;\n",
       "    }\n",
       "\n",
       "    .dataframe tbody tr th {\n",
       "        vertical-align: top;\n",
       "    }\n",
       "\n",
       "    .dataframe thead th {\n",
       "        text-align: right;\n",
       "    }\n",
       "</style>\n",
       "<table border=\"1\" class=\"dataframe\">\n",
       "  <thead>\n",
       "    <tr style=\"text-align: right;\">\n",
       "      <th>runoff_flag</th>\n",
       "      <th>0</th>\n",
       "      <th>1</th>\n",
       "    </tr>\n",
       "  </thead>\n",
       "  <tbody>\n",
       "    <tr>\n",
       "      <th>DAYS_FROM_BEGIN_TO_FIRST</th>\n",
       "      <td>103.034009</td>\n",
       "      <td>148.287681</td>\n",
       "    </tr>\n",
       "    <tr>\n",
       "      <th>FFP_TIER</th>\n",
       "      <td>4.154297</td>\n",
       "      <td>4.021335</td>\n",
       "    </tr>\n",
       "    <tr>\n",
       "      <th>GENDER</th>\n",
       "      <td>0.212923</td>\n",
       "      <td>0.270604</td>\n",
       "    </tr>\n",
       "    <tr>\n",
       "      <th>age</th>\n",
       "      <td>42.592845</td>\n",
       "      <td>41.584351</td>\n",
       "    </tr>\n",
       "    <tr>\n",
       "      <th>FLIGHT_COUNT</th>\n",
       "      <td>15.553015</td>\n",
       "      <td>6.189995</td>\n",
       "    </tr>\n",
       "    <tr>\n",
       "      <th>BASE_POINTS_SUM</th>\n",
       "      <td>14347.669300</td>\n",
       "      <td>5685.744408</td>\n",
       "    </tr>\n",
       "    <tr>\n",
       "      <th>EXPENSE_SUM_YR_1</th>\n",
       "      <td>6377.364604</td>\n",
       "      <td>3750.352430</td>\n",
       "    </tr>\n",
       "    <tr>\n",
       "      <th>EXPENSE_SUM_YR_2</th>\n",
       "      <td>7957.624147</td>\n",
       "      <td>1946.543273</td>\n",
       "    </tr>\n",
       "    <tr>\n",
       "      <th>SEG_KM_SUM</th>\n",
       "      <td>22210.616089</td>\n",
       "      <td>9352.946232</td>\n",
       "    </tr>\n",
       "    <tr>\n",
       "      <th>EXCHANGE_COUNT</th>\n",
       "      <td>0.446566</td>\n",
       "      <td>0.124312</td>\n",
       "    </tr>\n",
       "    <tr>\n",
       "      <th>avg_discount</th>\n",
       "      <td>0.726498</td>\n",
       "      <td>0.715094</td>\n",
       "    </tr>\n",
       "    <tr>\n",
       "      <th>FFP_days</th>\n",
       "      <td>1560.167456</td>\n",
       "      <td>1370.441801</td>\n",
       "    </tr>\n",
       "    <tr>\n",
       "      <th>ADD_POINTS_SUM_YR</th>\n",
       "      <td>0.289653</td>\n",
       "      <td>0.175886</td>\n",
       "    </tr>\n",
       "  </tbody>\n",
       "</table>\n",
       "</div>"
      ],
      "text/plain": [
       "runoff_flag                          0            1\n",
       "DAYS_FROM_BEGIN_TO_FIRST    103.034009   148.287681\n",
       "FFP_TIER                      4.154297     4.021335\n",
       "GENDER                        0.212923     0.270604\n",
       "age                          42.592845    41.584351\n",
       "FLIGHT_COUNT                 15.553015     6.189995\n",
       "BASE_POINTS_SUM           14347.669300  5685.744408\n",
       "EXPENSE_SUM_YR_1           6377.364604  3750.352430\n",
       "EXPENSE_SUM_YR_2           7957.624147  1946.543273\n",
       "SEG_KM_SUM                22210.616089  9352.946232\n",
       "EXCHANGE_COUNT                0.446566     0.124312\n",
       "avg_discount                  0.726498     0.715094\n",
       "FFP_days                   1560.167456  1370.441801\n",
       "ADD_POINTS_SUM_YR             0.289653     0.175886"
      ]
     },
     "execution_count": 48,
     "metadata": {},
     "output_type": "execute_result"
    }
   ],
   "source": [
    "(clean_data.groupby('runoff_flag').mean()).T"
   ]
  },
  {
   "cell_type": "markdown",
   "id": "cad3766c",
   "metadata": {},
   "source": [
    "建立模型"
   ]
  },
  {
   "cell_type": "code",
   "execution_count": 49,
   "id": "00ee5463",
   "metadata": {},
   "outputs": [],
   "source": [
    "# 数据处理\n",
    "from sklearn.model_selection import train_test_split\n",
    "from sklearn import preprocessing\n",
    "\n",
    "# 模型\n",
    "from sklearn.linear_model import LogisticRegression as LR\n",
    "from sklearn.ensemble import RandomForestClassifier\n",
    "from sklearn.model_selection import GridSearchCV\n",
    "from sklearn.neural_network import MLPClassifier\n",
    "\n",
    "# 模型评价\n",
    "from sklearn.metrics import accuracy_score\n",
    "from sklearn.metrics import classification_report,confusion_matrix\n",
    "# ROC和PR图\n",
    "from sklearn.metrics import plot_roc_curve\n",
    "from sklearn.metrics import plot_precision_recall_curve"
   ]
  },
  {
   "cell_type": "markdown",
   "id": "14da358a",
   "metadata": {},
   "source": [
    "1.提取特征"
   ]
  },
  {
   "cell_type": "code",
   "execution_count": 50,
   "id": "781df2e3",
   "metadata": {},
   "outputs": [],
   "source": [
    "x = clean_data.drop(['runoff_flag'],axis=1)\n",
    "y = clean_data['runoff_flag']"
   ]
  },
  {
   "cell_type": "markdown",
   "id": "2651b128",
   "metadata": {},
   "source": [
    "设置训练集跟测试集"
   ]
  },
  {
   "cell_type": "code",
   "execution_count": 51,
   "id": "8eb7cce1",
   "metadata": {},
   "outputs": [],
   "source": [
    "np.random.seed(2021)\n",
    "x_train, x_test, y_train, y_test = train_test_split(x, y, test_size=0.2, random_state=450)"
   ]
  },
  {
   "cell_type": "markdown",
   "id": "045f5b65",
   "metadata": {},
   "source": [
    "查看训练集和测试集响应变量分类情况"
   ]
  },
  {
   "cell_type": "code",
   "execution_count": 52,
   "id": "62346b0e",
   "metadata": {},
   "outputs": [
    {
     "name": "stdout",
     "output_type": "stream",
     "text": [
      "训练集中，因变量 cls 分类情况：\n",
      "                  0      1\n",
      "value_counts  30600  18578\n",
      "=======================================================\n",
      "\n",
      "测试集中，因变量 cls 分类情况：\n",
      "                 0     1\n",
      "value_counts  7625  4670\n"
     ]
    }
   ],
   "source": [
    "print('训练集中，因变量 cls 分类情况：')\n",
    "print(y_train.agg(['value_counts']).T)\n",
    "print('='*55 + '\\n')\n",
    "print('测试集中，因变量 cls 分类情况：')\n",
    "print(y_test.agg(['value_counts']).T)"
   ]
  },
  {
   "cell_type": "markdown",
   "id": "b7221352",
   "metadata": {},
   "source": [
    "logistic回归"
   ]
  },
  {
   "cell_type": "code",
   "execution_count": 53,
   "id": "b565cdcb",
   "metadata": {},
   "outputs": [
    {
     "name": "stdout",
     "output_type": "stream",
     "text": [
      "              precision    recall  f1-score   support\n",
      "\n",
      "           0       0.80      0.82      0.81      7625\n",
      "           1       0.70      0.67      0.69      4670\n",
      "\n",
      "    accuracy                           0.77     12295\n",
      "   macro avg       0.75      0.75      0.75     12295\n",
      "weighted avg       0.76      0.77      0.77     12295\n",
      "\n",
      "              precision    recall  f1-score   support\n",
      "\n",
      "           0       0.86      0.66      0.75      7625\n",
      "           1       0.60      0.82      0.69      4670\n",
      "\n",
      "    accuracy                           0.72     12295\n",
      "   macro avg       0.73      0.74      0.72     12295\n",
      "weighted avg       0.76      0.72      0.72     12295\n",
      "\n",
      "              precision    recall  f1-score   support\n",
      "\n",
      "           0       0.94      0.23      0.36      7625\n",
      "           1       0.44      0.98      0.60      4670\n",
      "\n",
      "    accuracy                           0.51     12295\n",
      "   macro avg       0.69      0.60      0.48     12295\n",
      "weighted avg       0.75      0.51      0.46     12295\n",
      "\n"
     ]
    },
    {
     "data": {
      "text/plain": [
       "<matplotlib.legend.Legend at 0x2a3285b44c0>"
      ]
     },
     "execution_count": 53,
     "metadata": {},
     "output_type": "execute_result"
    },
    {
     "data": {
      "image/png": "[encoded data removed]",
      "text/plain": [
       "<Figure size 1152x432 with 2 Axes>"
      ]
     },
     "metadata": {},
     "output_type": "display_data"
    }
   ],
   "source": [
    "fig, ax = plt.subplots(1,2,figsize=(16, 6))\n",
    "model_logistic_r = LR(penalty=\"l2\",solver=\"liblinear\",C=0.64 ,max_iter=1000)\n",
    "model_logistic_r.fit(x_train,y_train)\n",
    "model_logistic_r_roc = plot_roc_curve(model_logistic_r, x_test, y_test, ax=ax[0],name='raw')\n",
    "y_pred_r = model_logistic_r.predict(x_test)\n",
    "print(classification_report(y_test,y_pred_r))\n",
    "model_logistic_r_pr = plot_precision_recall_curve(model_logistic_r, x_test, y_test, ax=ax[1],name = 'raw')\n",
    "\n",
    "model_logistic_b = LR(penalty=\"l2\",solver=\"liblinear\",C=0.64 ,max_iter=1000,class_weight ='balanced' )\n",
    "model_logistic_b.fit(x_train,y_train)\n",
    "model_logistic_b_roc = plot_roc_curve(model_logistic_b, x_test, y_test, ax=ax[0],name='balanced')\n",
    "y_pred_b = model_logistic_b.predict(x_test)\n",
    "print(classification_report(y_test,y_pred_b))\n",
    "model_logistic_b_pr = plot_precision_recall_curve(model_logistic_b, x_test, y_test, ax=ax[1],name = 'balanced')\n",
    "\n",
    "\n",
    "model_logistic = LR(penalty=\"l2\",solver=\"liblinear\",C=0.64 ,max_iter=1000,class_weight ={0:0.1, 1:0.9} )\n",
    "model_logistic.fit(x_train,y_train)\n",
    "model_logistic_roc = plot_roc_curve(model_logistic, x_test, y_test, ax=ax[0],name='9:1')\n",
    "y_pred = model_logistic.predict(x_test)\n",
    "print(classification_report(y_test,y_pred))\n",
    "model_logistic_pr = plot_precision_recall_curve(model_logistic, x_test, y_test, ax=ax[1],name = '9:1')\n",
    "\n",
    "\n",
    "ax[0].plot([0, 1], [0, 1], linestyle='--', color='r')\n",
    "plt.legend(loc='upper right')"
   ]
  },
  {
   "cell_type": "markdown",
   "id": "756da8b4",
   "metadata": {},
   "source": [
    "参数调优"
   ]
  },
  {
   "cell_type": "code",
   "execution_count": 54,
   "id": "36515f02",
   "metadata": {},
   "outputs": [
    {
     "name": "stdout",
     "output_type": "stream",
     "text": [
      "最优模型参数： {'max_depth': 4, 'min_samples_leaf': 6, 'n_estimators': 2}\n"
     ]
    }
   ],
   "source": [
    "parameters = {'n_estimators':[1,2,4,6], 'max_depth':[2,4,6], 'min_samples_leaf':[1,4,6]}\n",
    "new_model = RandomForestClassifier(random_state=1)\n",
    "grid_search = GridSearchCV(new_model, parameters, cv=6, scoring='accuracy')\n",
    "grid_search.fit(x_train, y_train)\n",
    "grid_search.best_params_\n",
    "print('最优模型参数： ' + str(grid_search.best_params_))"
   ]
  },
  {
   "cell_type": "markdown",
   "id": "55e2991f",
   "metadata": {},
   "source": [
    "不同权重决策树 "
   ]
  },
  {
   "cell_type": "code",
   "execution_count": 55,
   "id": "497114a8",
   "metadata": {},
   "outputs": [
    {
     "name": "stdout",
     "output_type": "stream",
     "text": [
      "              precision    recall  f1-score   support\n",
      "\n",
      "           0       0.78      0.95      0.86      7625\n",
      "           1       0.87      0.57      0.69      4670\n",
      "\n",
      "    accuracy                           0.81     12295\n",
      "   macro avg       0.83      0.76      0.78     12295\n",
      "weighted avg       0.82      0.81      0.80     12295\n",
      "\n",
      "              precision    recall  f1-score   support\n",
      "\n",
      "           0       0.79      0.91      0.84      7625\n",
      "           1       0.80      0.61      0.69      4670\n",
      "\n",
      "    accuracy                           0.79     12295\n",
      "   macro avg       0.79      0.76      0.77     12295\n",
      "weighted avg       0.79      0.79      0.79     12295\n",
      "\n",
      "              precision    recall  f1-score   support\n",
      "\n",
      "           0       0.96      0.09      0.16      7625\n",
      "           1       0.40      0.99      0.57      4670\n",
      "\n",
      "    accuracy                           0.43     12295\n",
      "   macro avg       0.68      0.54      0.37     12295\n",
      "weighted avg       0.75      0.43      0.32     12295\n",
      "\n"
     ]
    },
    {
     "data": {
      "text/plain": [
       "<matplotlib.legend.Legend at 0x2a32858fd30>"
      ]
     },
     "execution_count": 55,
     "metadata": {},
     "output_type": "execute_result"
    },
    {
     "data": {
      "image/png": "[encoded data removed]",
      "text/plain": [
       "<Figure size 1152x432 with 2 Axes>"
      ]
     },
     "metadata": {},
     "output_type": "display_data"
    }
   ],
   "source": [
    "fig, ax = plt.subplots(1,2,figsize=(16, 6))\n",
    "model_RF_r = RandomForestClassifier(max_depth=4, n_estimators=2, min_samples_leaf=6, random_state=1)\n",
    "model_RF_r.fit(x_train,y_train)\n",
    "model_RF_r_roc = plot_roc_curve(model_RF_r, x_test, y_test, ax=ax[0],name='raw')\n",
    "y_pred_r = model_RF_r.predict(x_test)\n",
    "print(classification_report(y_test,y_pred_r))\n",
    "model_RF_r_pr = plot_precision_recall_curve(model_RF_r, x_test, y_test, ax=ax[1],name = 'raw')\n",
    "\n",
    "model_RF_b = RandomForestClassifier(max_depth=4, n_estimators=2, min_samples_leaf=6, random_state=1,class_weight = 'balanced')\n",
    "model_RF_b.fit(x_train,y_train)\n",
    "model_RF_b_roc = plot_roc_curve(model_RF_b, x_test, y_test, ax=ax[0],name='balanced')\n",
    "y_pred_b = model_RF_b.predict(x_test)\n",
    "print(classification_report(y_test,y_pred_b))\n",
    "model_RF_b_pr = plot_precision_recall_curve(model_RF_b, x_test, y_test, ax=ax[1],name = 'balanced')\n",
    "\n",
    "\n",
    "model_RF = RandomForestClassifier(max_depth=4, n_estimators=2, min_samples_leaf=6, random_state=1,class_weight = {0:0.1, 1:0.9})\n",
    "model_RF.fit(x_train,y_train)\n",
    "model_RF_roc = plot_roc_curve(model_RF, x_test, y_test, ax=ax[0],name='9:1')\n",
    "y_pred = model_RF.predict(x_test)\n",
    "print(classification_report(y_test,y_pred))\n",
    "model_RF_pr = plot_precision_recall_curve(model_RF, x_test, y_test, ax=ax[1],name = '9:1')\n",
    "\n",
    "\n",
    "ax[0].plot([0, 1], [0, 1], linestyle='--', color='r')\n",
    "plt.legend(loc='upper right')"
   ]
  },
  {
   "cell_type": "code",
   "execution_count": 56,
   "id": "7c6d2a8b",
   "metadata": {},
   "outputs": [
    {
     "name": "stdout",
     "output_type": "stream",
     "text": [
      "                          特征     特征重要性\n",
      "8           EXPENSE_SUM_YR_2  0.570701\n",
      "5               FLIGHT_COUNT  0.274474\n",
      "1   DAYS_FROM_BEGIN_TO_FIRST  0.065438\n",
      "10            EXCHANGE_COUNT  0.050437\n",
      "6            BASE_POINTS_SUM  0.014754\n",
      "12                  FFP_days  0.010239\n",
      "2                   FFP_TIER  0.003919\n",
      "7           EXPENSE_SUM_YR_1  0.003868\n",
      "13         ADD_POINTS_SUM_YR  0.002666\n",
      "4                        age  0.001543\n",
      "11              avg_discount  0.001506\n",
      "9                 SEG_KM_SUM  0.000305\n",
      "0                  MEMBER_NO  0.000094\n",
      "3                     GENDER  0.000056\n"
     ]
    }
   ],
   "source": [
    "features = x.columns\n",
    "importances = model_RF_r.feature_importances_\n",
    "b = pd.DataFrame()\n",
    "b['特征'] = features\n",
    "b['特征重要性'] = importances\n",
    "b = b.sort_values('特征重要性', ascending=False)\n",
    "print(b)"
   ]
  },
  {
   "cell_type": "markdown",
   "id": "58a697cb",
   "metadata": {},
   "source": [
    "查看各个包的版本"
   ]
  },
  {
   "cell_type": "code",
   "execution_count": 57,
   "id": "15c5c69a",
   "metadata": {},
   "outputs": [
    {
     "name": "stdout",
     "output_type": "stream",
     "text": [
      "plotnine version: 0.8.0\n",
      "pandas version: 1.2.4\n",
      "matplotlib version: 3.3.4\n",
      "NumPy version: 1.20.1\n",
      "SciPy version: 1.6.2\n",
      "scikit-learn version: 0.24.1\n"
     ]
    }
   ],
   "source": [
    "import plotnine\n",
    "print(\"plotnine version: {}\".format(plotnine.__version__))\n",
    "\n",
    "import pandas as pd\n",
    "print(\"pandas version: {}\".format(pd.__version__))\n",
    "\n",
    "import matplotlib\n",
    "print(\"matplotlib version: {}\".format(matplotlib.__version__))\n",
    "\n",
    "import numpy as np\n",
    "print(\"NumPy version: {}\".format(np.__version__))\n",
    "\n",
    "import scipy as sp\n",
    "print(\"SciPy version: {}\".format(sp.__version__))\n",
    "\n",
    "import sklearn\n",
    "print(\"scikit-learn version: {}\".format(sklearn.__version__))"
   ]
  },
  {
   "cell_type": "markdown",
   "id": "68fb3334",
   "metadata": {},
   "source": [
    "plotnine version: 0.8.0  \n",
    "pandas version: 1.2.4  \n",
    "matplotlib version: 3.3.4  \n",
    "NumPy version: 1.20.1   \n",
    "SciPy version: 1.6.2  \n",
    "scikit-learn version: 0.24.1"
   ]
  }
 ],
 "metadata": {
  "kernelspec": {
   "display_name": "Python 3",
   "language": "python",
   "name": "python3"
  },
  "language_info": {
   "codemirror_mode": {
    "name": "ipython",
    "version": 3
   },
   "file_extension": ".py",
   "mimetype": "text/x-python",
   "name": "python",
   "nbconvert_exporter": "python",
   "pygments_lexer": "ipython3",
   "version": "3.8.8"
  }
 },
 "nbformat": 4,
 "nbformat_minor": 5
}
